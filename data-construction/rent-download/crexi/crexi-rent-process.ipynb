{
 "cells": [
  {
   "cell_type": "code",
   "execution_count": null,
   "metadata": {},
   "outputs": [],
   "source": [
    "################################################################################                                                                                                                                                              \n",
    "################################################################################\n",
    "#\n",
    "# FILE: crexi-rent-process.ipynb\n",
    "#\n",
    "# BY: Dmitry Sedov \n",
    "#\n",
    "# CREATED: Fri Mar 27 2020\n",
    "#\n",
    "# DESC: This code processes the rent data downloaded from crexi to put it into a \n",
    "#       single dataset.\n",
    "#\n",
    "# EXEC:\n",
    "#      \n",
    "################################################################################\n",
    "################################################################################"
   ]
  },
  {
   "cell_type": "code",
   "execution_count": null,
   "metadata": {},
   "outputs": [],
   "source": [
    "############################### Libraries ######################################\n",
    "\n",
    "import pandas as pd\n",
    "import sqlalchemy as db\n",
    "\n",
    "import json\n",
    "import os\n",
    "import re\n",
    "\n",
    "import seaborn as sns\n",
    "import matplotlib.pyplot as plt\n",
    "import numpy as np\n",
    "%matplotlib inline\n",
    "\n",
    "# R integration\n",
    "%load_ext rpy2.ipython\n",
    "\n",
    "################################################################################"
   ]
  },
  {
   "cell_type": "code",
   "execution_count": null,
   "metadata": {},
   "outputs": [],
   "source": [
    "############################### Options ########################################\n",
    "\n",
    "sns.set_palette('tab10')\n",
    "\n",
    "################################################################################"
   ]
  },
  {
   "cell_type": "code",
   "execution_count": null,
   "metadata": {},
   "outputs": [],
   "source": [
    "############################### Constants ######################################\n",
    "\n",
    "output_folder_path = '/home/user/projects/urban/data/input/Rent/Crexi/retail'\n",
    "clean_rent_folder_path = '/home/user/projects/urban/data/output/rent'\n",
    "\n",
    "################################################################################"
   ]
  },
  {
   "cell_type": "code",
   "execution_count": null,
   "metadata": {},
   "outputs": [],
   "source": [
    "files = [f for f in os.listdir(output_folder_path) if os.path.isfile(os.path.join(output_folder_path, f))]"
   ]
  },
  {
   "cell_type": "code",
   "execution_count": null,
   "metadata": {},
   "outputs": [],
   "source": [
    "datasets = []\n",
    "for f in files:\n",
    "    with open(os.path.join(output_folder_path, f), 'r') as the_file:\n",
    "        test = json.load(the_file)\n",
    "        data = pd.DataFrame(test['Data'])\n",
    "        data['zip_code'] = f[3:8]\n",
    "        datasets.append(data)"
   ]
  },
  {
   "cell_type": "code",
   "execution_count": null,
   "metadata": {},
   "outputs": [],
   "source": [
    "data = pd.concat(datasets)\n",
    "subdata = data[data['RateMonthly'].notnull()].copy()\n",
    "subdata.drop_duplicates(inplace = True)\n",
    "subdata = subdata[['zip_code', 'Description', 'RateMonthly']]\n",
    "subdata.reset_index(drop = True, inplace = True)"
   ]
  },
  {
   "cell_type": "code",
   "execution_count": null,
   "metadata": {},
   "outputs": [],
   "source": [
    "subdata.shape"
   ]
  },
  {
   "cell_type": "code",
   "execution_count": null,
   "metadata": {},
   "outputs": [],
   "source": [
    "# Clean the rent data\n",
    "numbers = re.compile(r'(\\d+)(\\.\\d+)?')\n",
    "subdata['rate'] = subdata['RateMonthly'].apply(lambda row: np.mean([float(''.join(x)) for x in numbers.findall(row)]))"
   ]
  },
  {
   "cell_type": "code",
   "execution_count": null,
   "metadata": {
    "scrolled": true
   },
   "outputs": [],
   "source": [
    "# Get the type\n",
    "def extract_first(x):\n",
    "    try:\n",
    "        return x.split('|')[0]\n",
    "    except AttributeError:\n",
    "        return ''\n",
    "subdata['type'] = subdata['Description'].apply(extract_first)\n",
    "\n",
    "sq_ft_pattern = re.compile('\\|[\\d,\\s]+sq\\. ft\\.[^\\|$]*')\n",
    "def extract_footage(x):\n",
    "    try:\n",
    "        footage = sq_ft_pattern.findall(str(x))[0].strip(' |')\n",
    "        return footage\n",
    "    except IndexError:\n",
    "        return ''\n",
    "subdata['footage'] = subdata['Description'].apply(extract_footage)\n",
    "\n",
    "sq_footage = re.compile(r'\\d+')\n",
    "subdata['footage'] = subdata['footage'\n",
    "                            ].apply(lambda row: np.mean([float(x) \n",
    "                                                         for x in sq_footage.findall(row.replace(',',''))]))\n",
    "\n",
    "subdata['source'] = 'crexi'"
   ]
  },
  {
   "cell_type": "code",
   "execution_count": null,
   "metadata": {},
   "outputs": [],
   "source": [
    "subdata[['source', 'zip_code', 'type', 'rate', 'footage']]"
   ]
  },
  {
   "cell_type": "code",
   "execution_count": null,
   "metadata": {},
   "outputs": [],
   "source": [
    "subdata[['source', \n",
    "         'zip_code', \n",
    "         'type', \n",
    "         'rate', \n",
    "         'footage']\n",
    "       ].to_csv(os.path.join(clean_rent_folder_path, 'crexi_listings.csv'))"
   ]
  },
  {
   "cell_type": "code",
   "execution_count": null,
   "metadata": {},
   "outputs": [],
   "source": [
    "zip_rent = subdata.groupby(['zip_code']).aggregate({'rate': 'mean'})"
   ]
  },
  {
   "cell_type": "code",
   "execution_count": null,
   "metadata": {},
   "outputs": [],
   "source": [
    "zip_rent.reset_index(inplace = True)"
   ]
  },
  {
   "cell_type": "code",
   "execution_count": null,
   "metadata": {},
   "outputs": [],
   "source": [
    "zip_rent"
   ]
  },
  {
   "cell_type": "code",
   "execution_count": null,
   "metadata": {},
   "outputs": [],
   "source": [
    "######################### Database connections #################################\n",
    "\n",
    "# Connect to the database via SQLalchemy                                                                           \n",
    "engine = db.create_engine('postgresql://{user}:{user_pass}@{host}/{dataname2}')                                                       \n",
    "connection = engine.connect()                                                                                      \n",
    "\n",
    "################################################################################"
   ]
  },
  {
   "cell_type": "code",
   "execution_count": null,
   "metadata": {},
   "outputs": [],
   "source": [
    "# Create a table with mean restaurant visits in zip_code\n",
    "zip_restaurants_table_statement = \"\"\"\n",
    "WITH month_restaurants AS (\n",
    "    SELECT\n",
    "        r.sname_place_id,\n",
    "        r.zip_code,\n",
    "        v.raw_visit_counts\n",
    "    FROM\n",
    "        restaurants AS r\n",
    "    LEFT JOIN\n",
    "        visits AS v\n",
    "    ON  \n",
    "        r.sname_place_id = v.sname_place_id\n",
    "    AND\n",
    "        v.year = 2018 \n",
    "    AND\n",
    "        v.month = 10\n",
    ") \n",
    "SELECT \n",
    "    zip_code,\n",
    "    AVG(raw_visit_counts) AS avg_rest_visits\n",
    "FROM\n",
    "    month_restaurants\n",
    "WHERE \n",
    "    raw_visit_counts IS NOT NULL\n",
    "GROUP BY \n",
    "    zip_code;\n",
    "\"\"\"\n",
    "\n",
    "zip_restaurants_table = pd.read_sql(zip_restaurants_table_statement, engine)"
   ]
  },
  {
   "cell_type": "code",
   "execution_count": null,
   "metadata": {},
   "outputs": [],
   "source": [
    "####################### Close database connections #############################\n",
    "\n",
    "engine.dispose()\n",
    "\n",
    "################################################################################"
   ]
  },
  {
   "cell_type": "code",
   "execution_count": null,
   "metadata": {},
   "outputs": [],
   "source": [
    "zip_restaurants_table.head()"
   ]
  },
  {
   "cell_type": "code",
   "execution_count": null,
   "metadata": {},
   "outputs": [],
   "source": [
    "merged = pd.merge(zip_restaurants_table, \n",
    "                  zip_rent, \n",
    "                  how = 'inner', \n",
    "                  on = 'zip_code', \n",
    "                  validate = 'one_to_one')"
   ]
  },
  {
   "cell_type": "code",
   "execution_count": null,
   "metadata": {},
   "outputs": [],
   "source": [
    "merged.head()"
   ]
  },
  {
   "cell_type": "code",
   "execution_count": null,
   "metadata": {},
   "outputs": [],
   "source": [
    "# Push the Census Block Groups dataset to R\n",
    "%Rpush merged"
   ]
  },
  {
   "cell_type": "code",
   "execution_count": null,
   "metadata": {},
   "outputs": [],
   "source": [
    "%%R\n",
    "library(ggplot2)\n",
    "library(dplyr)\n",
    "# Function to remove outliers\n",
    "remove_outliers <- function(x, na.rm = TRUE, ...) {\n",
    "    qnt <- quantile(x, probs=c(.25, .75), na.rm = na.rm, ...)\n",
    "    H <- 1 * IQR(x, na.rm = na.rm)\n",
    "    y <- x\n",
    "    y[x < (qnt[1] - H)] <- NA\n",
    "    y[x > (qnt[2] + H)] <- NA\n",
    "    y\n",
    "}\n",
    "# Remove outliers\n",
    "merged <- merged %>% \n",
    "    mutate_at(vars(avg_rest_visits, rate), \n",
    "              funs(remove_outliers))"
   ]
  },
  {
   "cell_type": "code",
   "execution_count": null,
   "metadata": {},
   "outputs": [],
   "source": [
    "%%R\n",
    "# Plot the establishments - restaurant visits relationship\n",
    "ggplot(data = merged, \n",
    "       aes(x = avg_rest_visits, \n",
    "           y = rate)) + \n",
    "    geom_smooth() + \n",
    "    stat_summary_bin(fun.y = 'mean', bins = 30, size = 1, geom = 'point') +\n",
    "    scale_color_brewer(palette = 'Set1') + \n",
    "    scale_fill_brewer(palette = 'Set1')"
   ]
  },
  {
   "cell_type": "code",
   "execution_count": null,
   "metadata": {},
   "outputs": [],
   "source": [
    "help(numbers.findall)"
   ]
  },
  {
   "cell_type": "code",
   "execution_count": null,
   "metadata": {},
   "outputs": [],
   "source": []
  },
  {
   "cell_type": "code",
   "execution_count": null,
   "metadata": {},
   "outputs": [],
   "source": [
    "sq_ft_pattern.findall(subdata.loc[0, 'Description'])"
   ]
  },
  {
   "cell_type": "code",
   "execution_count": null,
   "metadata": {},
   "outputs": [],
   "source": [
    "subdata.loc[0, 'Description']"
   ]
  },
  {
   "cell_type": "code",
   "execution_count": null,
   "metadata": {},
   "outputs": [],
   "source": [
    "help(str.strip)"
   ]
  },
  {
   "cell_type": "code",
   "execution_count": null,
   "metadata": {},
   "outputs": [],
   "source": []
  }
 ],
 "metadata": {
  "kernelspec": {
   "display_name": "Python 3",
   "language": "python",
   "name": "python3"
  },
  "language_info": {
   "codemirror_mode": {
    "name": "ipython",
    "version": 3
   },
   "file_extension": ".py",
   "mimetype": "text/x-python",
   "name": "python",
   "nbconvert_exporter": "python",
   "pygments_lexer": "ipython3",
   "version": "3.6.9"
  }
 },
 "nbformat": 4,
 "nbformat_minor": 2
}
