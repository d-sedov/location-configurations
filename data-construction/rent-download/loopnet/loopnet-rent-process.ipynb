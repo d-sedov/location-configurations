{
 "cells": [
  {
   "cell_type": "code",
   "execution_count": 1,
   "metadata": {},
   "outputs": [],
   "source": [
    "################################################################################                                                                                                                                                              \n",
    "################################################################################\n",
    "#\n",
    "# FILE: loopnet-rent-process.ipynb\n",
    "#\n",
    "# BY: Dmitry Sedov \n",
    "#\n",
    "# CREATED: Sun May 10 2020\n",
    "#\n",
    "# DESC: This code processes the rent data downloaded from loopnet to put it into a \n",
    "#       single dataset.\n",
    "#\n",
    "# EXEC:\n",
    "#      \n",
    "################################################################################\n",
    "################################################################################"
   ]
  },
  {
   "cell_type": "code",
   "execution_count": 2,
   "metadata": {},
   "outputs": [],
   "source": [
    "################################################################################\n",
    "\n",
    "import pandas as pd\n",
    "import sqlalchemy as db\n",
    "\n",
    "import numpy as np\n",
    "\n",
    "import json\n",
    "import os\n",
    "import re\n",
    "\n",
    "################################################################################"
   ]
  },
  {
   "cell_type": "code",
   "execution_count": 3,
   "metadata": {},
   "outputs": [],
   "source": [
    "############################### Constants ######################################\n",
    "\n",
    "output_folder_path = '/home/user/projects/urban/data/input/Rent/loopnet/retail'\n",
    "clean_rent_folder_path = '/home/user/projects/urban/data/output/rent'\n",
    "\n",
    "################################################################################"
   ]
  },
  {
   "cell_type": "code",
   "execution_count": 4,
   "metadata": {},
   "outputs": [],
   "source": [
    "# List with all files in the output directory\n",
    "files = [f for f in os.listdir(output_folder_path) if os.path.isfile(os.path.join(output_folder_path, f))]"
   ]
  },
  {
   "cell_type": "code",
   "execution_count": 5,
   "metadata": {},
   "outputs": [],
   "source": [
    "digit_pattern = re.compile(r'\\d')\n",
    "datasets = []\n",
    "# Iterate through files, building tables with rent offers\n",
    "for f in files:\n",
    "    zip_tables = []\n",
    "    zip_code = f.split('-')[1]\n",
    "    # Read tables with listings\n",
    "    tables = pd.read_html(os.path.join(output_folder_path, f),\n",
    "                          attrs = {'class': 'listingAttributes'})\n",
    "    for t in tables:\n",
    "        t = t.transpose()\n",
    "        t.columns = [n.strip(':') for n in t.iloc[0]]\n",
    "        t = t.drop(t.index[0]).reset_index(drop = True)\n",
    "        zip_tables.append(t)\n",
    "    zip_table = pd.concat(zip_tables)\n",
    "    zip_table.dropna(subset = ['Price'], inplace = True)\n",
    "    zip_table['zip_code'] = zip_code\n",
    "    mask = zip_table['Price'].apply(lambda x: bool(re.search(digit_pattern, x)))\n",
    "    zip_table = zip_table[mask]\n",
    "    datasets.append(zip_table)"
   ]
  },
  {
   "cell_type": "code",
   "execution_count": 6,
   "metadata": {},
   "outputs": [],
   "source": [
    "loopnet_data = pd.concat(datasets).reset_index(drop = True)"
   ]
  },
  {
   "cell_type": "code",
   "execution_count": 7,
   "metadata": {},
   "outputs": [
    {
     "data": {
      "text/plain": [
       "(47023, 9)"
      ]
     },
     "execution_count": 7,
     "metadata": {},
     "output_type": "execute_result"
    }
   ],
   "source": [
    "loopnet_data.shape"
   ]
  },
  {
   "cell_type": "code",
   "execution_count": 8,
   "metadata": {},
   "outputs": [
    {
     "data": {
      "text/html": [
       "<div>\n",
       "<style scoped>\n",
       "    .dataframe tbody tr th:only-of-type {\n",
       "        vertical-align: middle;\n",
       "    }\n",
       "\n",
       "    .dataframe tbody tr th {\n",
       "        vertical-align: top;\n",
       "    }\n",
       "\n",
       "    .dataframe thead th {\n",
       "        text-align: right;\n",
       "    }\n",
       "</style>\n",
       "<table border=\"1\" class=\"dataframe\">\n",
       "  <thead>\n",
       "    <tr style=\"text-align: right;\">\n",
       "      <th></th>\n",
       "      <th>Status</th>\n",
       "      <th>Price</th>\n",
       "      <th>Property Type</th>\n",
       "      <th>Sub-Type</th>\n",
       "      <th>Spaces</th>\n",
       "      <th>Space Available</th>\n",
       "      <th>Building Size</th>\n",
       "      <th>zip_code</th>\n",
       "      <th>Lot Size</th>\n",
       "    </tr>\n",
       "  </thead>\n",
       "  <tbody>\n",
       "    <tr>\n",
       "      <th>0</th>\n",
       "      <td>For Lease</td>\n",
       "      <td>$2.92 SF/Mo</td>\n",
       "      <td>Multifamily</td>\n",
       "      <td>Retail</td>\n",
       "      <td>1 Space</td>\n",
       "      <td>1,478 - 10,752 SF</td>\n",
       "      <td>35,220 SF</td>\n",
       "      <td>07666</td>\n",
       "      <td>NaN</td>\n",
       "    </tr>\n",
       "    <tr>\n",
       "      <th>1</th>\n",
       "      <td>For Lease</td>\n",
       "      <td>$2.55 SF/Mo</td>\n",
       "      <td>Retail</td>\n",
       "      <td>Office/Retail</td>\n",
       "      <td>1 Space</td>\n",
       "      <td>785 SF</td>\n",
       "      <td>3,200 SF</td>\n",
       "      <td>07666</td>\n",
       "      <td>NaN</td>\n",
       "    </tr>\n",
       "    <tr>\n",
       "      <th>2</th>\n",
       "      <td>For Lease</td>\n",
       "      <td>$2.75 SF/Mo</td>\n",
       "      <td>Retail</td>\n",
       "      <td>Retail</td>\n",
       "      <td>4 Spaces</td>\n",
       "      <td>1,516 - 6,331 SF</td>\n",
       "      <td>6,500 SF</td>\n",
       "      <td>07666</td>\n",
       "      <td>NaN</td>\n",
       "    </tr>\n",
       "    <tr>\n",
       "      <th>3</th>\n",
       "      <td>For Lease</td>\n",
       "      <td>$2.25 SF/Mo</td>\n",
       "      <td>Retail</td>\n",
       "      <td>Retail</td>\n",
       "      <td>1 Space</td>\n",
       "      <td>1,200 SF</td>\n",
       "      <td>9,600 SF</td>\n",
       "      <td>07666</td>\n",
       "      <td>NaN</td>\n",
       "    </tr>\n",
       "    <tr>\n",
       "      <th>4</th>\n",
       "      <td>For Lease</td>\n",
       "      <td>$2.11 SF/Mo</td>\n",
       "      <td>Retail</td>\n",
       "      <td>Retail</td>\n",
       "      <td>1 Space</td>\n",
       "      <td>475 SF</td>\n",
       "      <td>2,907 SF</td>\n",
       "      <td>07666</td>\n",
       "      <td>NaN</td>\n",
       "    </tr>\n",
       "    <tr>\n",
       "      <th>...</th>\n",
       "      <td>...</td>\n",
       "      <td>...</td>\n",
       "      <td>...</td>\n",
       "      <td>...</td>\n",
       "      <td>...</td>\n",
       "      <td>...</td>\n",
       "      <td>...</td>\n",
       "      <td>...</td>\n",
       "      <td>...</td>\n",
       "    </tr>\n",
       "    <tr>\n",
       "      <th>47018</th>\n",
       "      <td>For Lease</td>\n",
       "      <td>$1.54 SF/Mo</td>\n",
       "      <td>Retail</td>\n",
       "      <td>Retail</td>\n",
       "      <td>1 Space</td>\n",
       "      <td>3,785 SF</td>\n",
       "      <td>20,000 SF</td>\n",
       "      <td>63143</td>\n",
       "      <td>NaN</td>\n",
       "    </tr>\n",
       "    <tr>\n",
       "      <th>47019</th>\n",
       "      <td>For Lease</td>\n",
       "      <td>$1.00 SF/Mo</td>\n",
       "      <td>Industrial</td>\n",
       "      <td>Retail</td>\n",
       "      <td>2 Spaces</td>\n",
       "      <td>4,000 SF</td>\n",
       "      <td>70,000 SF</td>\n",
       "      <td>63143</td>\n",
       "      <td>NaN</td>\n",
       "    </tr>\n",
       "    <tr>\n",
       "      <th>47020</th>\n",
       "      <td>For Lease</td>\n",
       "      <td>$1.67 SF/Mo</td>\n",
       "      <td>NaN</td>\n",
       "      <td>Retail</td>\n",
       "      <td>1 Space</td>\n",
       "      <td>1,200 SF</td>\n",
       "      <td>10,595 SF</td>\n",
       "      <td>30068</td>\n",
       "      <td>NaN</td>\n",
       "    </tr>\n",
       "    <tr>\n",
       "      <th>47021</th>\n",
       "      <td>For Lease</td>\n",
       "      <td>$2.17 - $2.92 SF/Mo</td>\n",
       "      <td>NaN</td>\n",
       "      <td>Retail</td>\n",
       "      <td>3 Spaces</td>\n",
       "      <td>1,000 - 7,580 SF</td>\n",
       "      <td>70,314 SF</td>\n",
       "      <td>30068</td>\n",
       "      <td>NaN</td>\n",
       "    </tr>\n",
       "    <tr>\n",
       "      <th>47022</th>\n",
       "      <td>For Lease</td>\n",
       "      <td>$3.45 SF/Mo</td>\n",
       "      <td>Retail</td>\n",
       "      <td>Retail</td>\n",
       "      <td>1 Space</td>\n",
       "      <td>3,625 SF</td>\n",
       "      <td>3,625 SF</td>\n",
       "      <td>30068</td>\n",
       "      <td>NaN</td>\n",
       "    </tr>\n",
       "  </tbody>\n",
       "</table>\n",
       "<p>47023 rows × 9 columns</p>\n",
       "</div>"
      ],
      "text/plain": [
       "          Status                Price Property Type       Sub-Type    Spaces  \\\n",
       "0      For Lease          $2.92 SF/Mo   Multifamily         Retail   1 Space   \n",
       "1      For Lease          $2.55 SF/Mo        Retail  Office/Retail   1 Space   \n",
       "2      For Lease          $2.75 SF/Mo        Retail         Retail  4 Spaces   \n",
       "3      For Lease          $2.25 SF/Mo        Retail         Retail   1 Space   \n",
       "4      For Lease          $2.11 SF/Mo        Retail         Retail   1 Space   \n",
       "...          ...                  ...           ...            ...       ...   \n",
       "47018  For Lease          $1.54 SF/Mo        Retail         Retail   1 Space   \n",
       "47019  For Lease          $1.00 SF/Mo    Industrial         Retail  2 Spaces   \n",
       "47020  For Lease          $1.67 SF/Mo           NaN         Retail   1 Space   \n",
       "47021  For Lease  $2.17 - $2.92 SF/Mo           NaN         Retail  3 Spaces   \n",
       "47022  For Lease          $3.45 SF/Mo        Retail         Retail   1 Space   \n",
       "\n",
       "         Space Available Building Size zip_code Lot Size  \n",
       "0      1,478 - 10,752 SF     35,220 SF    07666      NaN  \n",
       "1                 785 SF      3,200 SF    07666      NaN  \n",
       "2       1,516 - 6,331 SF      6,500 SF    07666      NaN  \n",
       "3               1,200 SF      9,600 SF    07666      NaN  \n",
       "4                 475 SF      2,907 SF    07666      NaN  \n",
       "...                  ...           ...      ...      ...  \n",
       "47018           3,785 SF     20,000 SF    63143      NaN  \n",
       "47019           4,000 SF     70,000 SF    63143      NaN  \n",
       "47020           1,200 SF     10,595 SF    30068      NaN  \n",
       "47021   1,000 - 7,580 SF     70,314 SF    30068      NaN  \n",
       "47022           3,625 SF      3,625 SF    30068      NaN  \n",
       "\n",
       "[47023 rows x 9 columns]"
      ]
     },
     "execution_count": 8,
     "metadata": {},
     "output_type": "execute_result"
    }
   ],
   "source": [
    "loopnet_data"
   ]
  },
  {
   "cell_type": "code",
   "execution_count": 9,
   "metadata": {},
   "outputs": [],
   "source": [
    "# Check that all prices are in $ per SF per Month\n",
    "sf_mo_pattern = re.compile(r'SF/Mo')\n",
    "test = loopnet_data['Price'].apply(lambda x: bool(re.search(sf_mo_pattern, x)))\n",
    "assert test.sum() == loopnet_data.shape[0]\n",
    "\n",
    "sf_pattern = re.compile(r'SF')\n",
    "test = loopnet_data['Space Available'].apply(lambda x: bool(re.search(sf_pattern, x)))\n",
    "assert test.sum() == loopnet_data.shape[0]"
   ]
  },
  {
   "cell_type": "code",
   "execution_count": 14,
   "metadata": {},
   "outputs": [],
   "source": [
    "# Parse the prices\n",
    "numbers = re.compile(r'(\\d+)(\\.\\d+)?')\n",
    "loopnet_data['rate'] = loopnet_data['Price'].apply(lambda row: np.mean([float(''.join(x)) for x in numbers.findall(row)]))\n",
    "# Parse the sizes\n",
    "sq_footage = re.compile(r'\\d+')\n",
    "loopnet_data['footage'] = loopnet_data['Space Available'\n",
    "                                      ].apply(lambda row: np.mean([float(x) \n",
    "                                                                   for x in sq_footage.findall(row.replace(',',''))]))"
   ]
  },
  {
   "cell_type": "code",
   "execution_count": 23,
   "metadata": {},
   "outputs": [],
   "source": [
    "loopnet_data['source'] = 'loopnet'"
   ]
  },
  {
   "cell_type": "code",
   "execution_count": 19,
   "metadata": {},
   "outputs": [],
   "source": [
    "loopnet_data.rename(columns = {'Property Type': 'type', 'Sub-Type': 'subtype'}, \n",
    "                    inplace = True)"
   ]
  },
  {
   "cell_type": "code",
   "execution_count": null,
   "metadata": {},
   "outputs": [],
   "source": [
    "loopnet_data[['zip_code', 'type', 'subtype', 'rate', 'footage']]"
   ]
  },
  {
   "cell_type": "code",
   "execution_count": 83,
   "metadata": {},
   "outputs": [],
   "source": [
    "loopnet_by_zip = loopnet_data.groupby('zip_code').aggregate({'rate': np.median})"
   ]
  },
  {
   "cell_type": "code",
   "execution_count": 93,
   "metadata": {
    "scrolled": true
   },
   "outputs": [
    {
     "data": {
      "text/plain": [
       "rate    2.5\n",
       "Name: 0.9, dtype: float64"
      ]
     },
     "execution_count": 93,
     "metadata": {},
     "output_type": "execute_result"
    }
   ],
   "source": [
    "loopnet_by_zip.quantile(q = 0.9)"
   ]
  },
  {
   "cell_type": "code",
   "execution_count": 24,
   "metadata": {},
   "outputs": [],
   "source": [
    "loopnet_data[['source',\n",
    "              'zip_code', \n",
    "              'type', \n",
    "              'subtype', \n",
    "              'rate', \n",
    "              'footage']\n",
    "            ].to_csv(os.path.join(clean_rent_folder_path,\n",
    "                                  'loopnet_listings.csv'),\n",
    "                     index = False)"
   ]
  },
  {
   "cell_type": "code",
   "execution_count": null,
   "metadata": {},
   "outputs": [],
   "source": []
  }
 ],
 "metadata": {
  "kernelspec": {
   "display_name": "Python 3",
   "language": "python",
   "name": "python3"
  },
  "language_info": {
   "codemirror_mode": {
    "name": "ipython",
    "version": 3
   },
   "file_extension": ".py",
   "mimetype": "text/x-python",
   "name": "python",
   "nbconvert_exporter": "python",
   "pygments_lexer": "ipython3",
   "version": "3.6.9"
  }
 },
 "nbformat": 4,
 "nbformat_minor": 2
}
