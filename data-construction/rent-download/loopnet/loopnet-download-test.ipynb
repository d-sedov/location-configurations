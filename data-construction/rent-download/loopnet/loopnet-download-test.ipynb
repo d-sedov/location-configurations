{
 "cells": [
  {
   "cell_type": "code",
   "execution_count": 1,
   "metadata": {},
   "outputs": [],
   "source": [
    "################################################################################                                                                                                                                                              \n",
    "################################################################################\n",
    "#\n",
    "# FILE: loopnet-download-test.py\n",
    "#\n",
    "# BY: Dmitry Sedov \n",
    "#\n",
    "# CREATED: Tue Apr 7 2020\n",
    "#\n",
    "# DESC: This code [test-]downloads rent data from loopnet.com.\n",
    "#\n",
    "# EXEC: \n",
    "#      \n",
    "################################################################################\n",
    "################################################################################"
   ]
  },
  {
   "cell_type": "code",
   "execution_count": 2,
   "metadata": {},
   "outputs": [],
   "source": [
    "############################### Libraries ######################################\n",
    "\n",
    "import requests\n",
    "\n",
    "import sys \n",
    "import json\n",
    "import os\n",
    "import time\n",
    "\n",
    "import pandas as pd\n",
    "\n",
    "import zipcodes\n",
    "\n",
    "from bs4 import BeautifulSoup\n",
    "\n",
    "################################################################################"
   ]
  },
  {
   "cell_type": "code",
   "execution_count": 3,
   "metadata": {},
   "outputs": [],
   "source": [
    "######################### Constants and settings ###############################\n",
    "\n",
    "url = 'https://www.loopnet.com/zip/{}_retail-space-for-lease/1/'\n",
    "\n",
    "user_agent = 'Moilla/5.0 (Macintosh; Intel Mac OS X 10_13_6) AppleWebKit/537.36 (KHTML, like Gecko) Chrome/80.0.3987.132 Safari/537.36'\n",
    "\n",
    "headers = {'User-Agent': user_agent,\n",
    "           'Accept': 'text/html,application/xhtml+xml,application/xml;q=0.9,image/webp,image/apng,*/*;q=0.8,application/signed-exchange;v=b3;q=0.9',\n",
    "           'Accept-Language': 'en-US,en;q=0.9,de;q=0.8,es;q=0.7,ru;q=0.6'\n",
    "          }\n",
    "\n",
    "output_folder_path = '/home/user/projects/urban/data/input/Rent/loopnet/retail'\n",
    "code_folder_path = '/home/user/projects/urban/code/data-construction/rent-download/loopnet'\n",
    "\n",
    "################################################################################"
   ]
  },
  {
   "cell_type": "code",
   "execution_count": 4,
   "metadata": {},
   "outputs": [],
   "source": [
    "session = requests.Session()"
   ]
  },
  {
   "cell_type": "code",
   "execution_count": 5,
   "metadata": {},
   "outputs": [],
   "source": [
    "result = requests.get(url.format('60610'), headers = headers)"
   ]
  },
  {
   "cell_type": "code",
   "execution_count": 6,
   "metadata": {},
   "outputs": [],
   "source": [
    "soup = BeautifulSoup(result.text, 'html.parser')"
   ]
  },
  {
   "cell_type": "code",
   "execution_count": 7,
   "metadata": {},
   "outputs": [
    {
     "data": {
      "text/plain": [
       "<!DOCTYPE html>\n",
       "\n",
       "<html lang=\"en\">\n",
       "<head>\n",
       "<meta content=\"text/html; charset=utf-8\" http-equiv=\"content-type\"/>\n",
       "<meta content=\"width=device-width, initial-scale=1.0\" name=\"viewport\"/>\n",
       "<style media=\"all\" type=\"text/css\">\n",
       "    html {\n",
       "      font-family: Helvetica, Arial, sans-serif;\n",
       "      font-size: 18px;\n",
       "      font-weight: 100;\n",
       "      color: #63666a;\n",
       "      -webkit-font-smoothing: antialiased;\n",
       "      height: 100%;\n",
       "      width: 100%;\n",
       "    }\n",
       "\n",
       "    body {\n",
       "      font-family: Helvetica, Arial, sans-serif;\n",
       "      font-size: 18px;\n",
       "      line-height: 1.5;\n",
       "      margin: 0 auto;\n",
       "      font-weight: 100;\n",
       "      position: relative;\n",
       "    }\n",
       "\n",
       "    nav {\n",
       "      background: #FFFFFF;\n",
       "      overflow: hidden;\n",
       "      width: 100%;\n",
       "      display: block;\n",
       "      padding: 15px 0;\n",
       "      position: relative;\n",
       "      z-index: 1;\n",
       "      box-shadow: 0 2px 4px rgba(0, 0, 0, .11);\n",
       "    }\n",
       "\n",
       "    nav a.logo {\n",
       "      display: block;\n",
       "      margin: 0 auto;\n",
       "      width: 191px;\n",
       "    }\n",
       "\n",
       "    h1 {\n",
       "      font-size: 36px;\n",
       "    }\n",
       "\n",
       "    .background-wrap {\n",
       "      background-size: cover;\n",
       "      background-position: 50% 50%;\n",
       "      height: auto;\n",
       "      display: flex;\n",
       "      align-items: center;\n",
       "      justify-content: center;\n",
       "      image-rendering: -webkit-optimize-contrast;\n",
       "    }\n",
       "\n",
       "    .content-wrap {\n",
       "      color: #000;\n",
       "      position: relative;\n",
       "      margin: 40px;\n",
       "      min-width: 400px;\n",
       "      max-width: 800px;\n",
       "    }\n",
       "\n",
       "    .content-wrap:after {\n",
       "      content: \"\";\n",
       "      display: block;\n",
       "      width: 100%;\n",
       "      height: 100%;\n",
       "      position: absolute;\n",
       "      background-color: #fff;\n",
       "      mix-blend-mode: multiply;\n",
       "      top: 0;\n",
       "      left: 0;\n",
       "    }\n",
       "\n",
       "    .content {\n",
       "      color: #000;\n",
       "      margin: 0;\n",
       "      padding: 60px;\n",
       "      position: relative;\n",
       "      z-index: 1;\n",
       "    }\n",
       "\n",
       "    .content h1 {\n",
       "      font-size: 36px;\n",
       "      font-weight: 600;\n",
       "    }\n",
       "\n",
       "    .content a {\n",
       "      color: #fff;\n",
       "      text-decoration: underline;\n",
       "    }\n",
       "  </style>\n",
       "<title>\n",
       "    Limited Features\n",
       "  </title>\n",
       "</head>\n",
       "<body>\n",
       "<div class=\"loopnet-standard\"></div>\n",
       "<div>\n",
       "<nav>\n",
       "<a class=\"logo\" href=\"#\" title=\"Commercial Real Estate1\">\n",
       "<img src=\"data:image/svg+xml;base64,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\"/>\n",
       "</a>\n",
       "</nav>\n",
       "<div class=\"background-wrap\">\n",
       "<div class=\"content-wrap\">\n",
       "<div class=\"content\">\n",
       "<span>\n",
       "<h1 id=\"main_title\">Access Denied</h1>\n",
       "<p>You do not have permission to access this site.<br/>\n",
       "<br/>Reference ID: 18.2783d717.1586353769.1dfe2216</p>\n",
       "<div> </div>\n",
       "</span>\n",
       "</div>\n",
       "</div>\n",
       "</div>\n",
       "</div>\n",
       "</body>\n",
       "</html>"
      ]
     },
     "execution_count": 7,
     "metadata": {},
     "output_type": "execute_result"
    }
   ],
   "source": [
    "soup"
   ]
  },
  {
   "cell_type": "code",
   "execution_count": null,
   "metadata": {},
   "outputs": [],
   "source": [
    "soup.find('div', {'class': 'seoListingsTitle'}).find('b').text.split(' ')[0]"
   ]
  },
  {
   "cell_type": "code",
   "execution_count": null,
   "metadata": {},
   "outputs": [],
   "source": [
    "list(range(2, -( -65 // 25) + 1))"
   ]
  },
  {
   "cell_type": "code",
   "execution_count": null,
   "metadata": {},
   "outputs": [],
   "source": [
    "result = requests.get(url.format('00065'), headers = {'User-Agent': user_agent})"
   ]
  },
  {
   "cell_type": "code",
   "execution_count": null,
   "metadata": {},
   "outputs": [],
   "source": [
    "soup = BeautifulSoup(result.text, 'html.parser')"
   ]
  },
  {
   "cell_type": "code",
   "execution_count": null,
   "metadata": {},
   "outputs": [],
   "source": [
    "soup.find('div', {'class': 'seoListingsTitle'}).find('b').text.split(' ')[0]"
   ]
  },
  {
   "cell_type": "code",
   "execution_count": null,
   "metadata": {},
   "outputs": [],
   "source": [
    "tables = pd.read_html(result.text)"
   ]
  },
  {
   "cell_type": "code",
   "execution_count": null,
   "metadata": {},
   "outputs": [],
   "source": [
    "tables[4]"
   ]
  },
  {
   "cell_type": "code",
   "execution_count": null,
   "metadata": {},
   "outputs": [],
   "source": [
    "df = pd.read_html(str(soup.find_all('div', {'class': 'listingContainer'})[1]))[0].transpose()"
   ]
  },
  {
   "cell_type": "code",
   "execution_count": null,
   "metadata": {},
   "outputs": [],
   "source": [
    "df.rename(columns=df.iloc[0], inplace = True)\n",
    "df.drop([0], inplace = True)"
   ]
  },
  {
   "cell_type": "code",
   "execution_count": null,
   "metadata": {},
   "outputs": [],
   "source": [
    "df"
   ]
  },
  {
   "cell_type": "code",
   "execution_count": null,
   "metadata": {},
   "outputs": [],
   "source": [
    "with open(os.path.join(output_folder_path, 'test.html'), 'w') as the_file:\n",
    "    the_file.write(result.text)"
   ]
  },
  {
   "cell_type": "code",
   "execution_count": null,
   "metadata": {},
   "outputs": [],
   "source": [
    "with open(os.path.join(output_folder_path, 'test.html'), 'r') as the_file:\n",
    "    soup = BeautifulSoup(the_file, 'html.parser')"
   ]
  },
  {
   "cell_type": "code",
   "execution_count": null,
   "metadata": {},
   "outputs": [],
   "source": [
    "df = pd.read_html(str(soup.find_all('div', {'class': 'listingContainer'})[1]))[0].transpose()"
   ]
  },
  {
   "cell_type": "code",
   "execution_count": null,
   "metadata": {},
   "outputs": [],
   "source": [
    "df"
   ]
  },
  {
   "cell_type": "code",
   "execution_count": null,
   "metadata": {},
   "outputs": [],
   "source": [
    "df.rename(columns=df.iloc[0], inplace = True)\n",
    "df.drop([0], inplace = True)"
   ]
  },
  {
   "cell_type": "code",
   "execution_count": null,
   "metadata": {},
   "outputs": [],
   "source": [
    "df"
   ]
  },
  {
   "cell_type": "code",
   "execution_count": null,
   "metadata": {},
   "outputs": [],
   "source": [
    "[('0',p) for p in range(1, 1)]"
   ]
  },
  {
   "cell_type": "code",
   "execution_count": null,
   "metadata": {},
   "outputs": [],
   "source": []
  }
 ],
 "metadata": {
  "kernelspec": {
   "display_name": "Python 3",
   "language": "python",
   "name": "python3"
  },
  "language_info": {
   "codemirror_mode": {
    "name": "ipython",
    "version": 3
   },
   "file_extension": ".py",
   "mimetype": "text/x-python",
   "name": "python",
   "nbconvert_exporter": "python",
   "pygments_lexer": "ipython3",
   "version": "3.6.8"
  }
 },
 "nbformat": 4,
 "nbformat_minor": 2
}
