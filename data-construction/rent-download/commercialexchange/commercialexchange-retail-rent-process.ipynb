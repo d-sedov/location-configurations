{
 "cells": [
  {
   "cell_type": "code",
   "execution_count": null,
   "metadata": {},
   "outputs": [],
   "source": [
    "################################################################################                                                                                                                                                              \n",
    "################################################################################\n",
    "#\n",
    "# FILE: commercialexchange-retail-rent-process.ipynb\n",
    "#\n",
    "# BY: Dmitry Sedov \n",
    "#\n",
    "# CREATED: Sun Apr 12 2020\n",
    "#\n",
    "# DESC: This code processes rent data downloaded from commercialexchange.com.\n",
    "#\n",
    "# EXEC:\n",
    "#      \n",
    "################################################################################\n",
    "################################################################################"
   ]
  },
  {
   "cell_type": "code",
   "execution_count": null,
   "metadata": {},
   "outputs": [],
   "source": [
    "############################### Libraries ######################################\n",
    "\n",
    "import pandas as pd\n",
    "import sqlalchemy as db\n",
    "\n",
    "import os\n",
    "import us\n",
    "\n",
    "import json\n",
    "import re\n",
    "\n",
    "import seaborn as sns\n",
    "import matplotlib.pyplot as plt\n",
    "import numpy as np\n",
    "%matplotlib inline\n",
    "\n",
    "# R integration\n",
    "%load_ext rpy2.ipython\n",
    "\n",
    "################################################################################"
   ]
  },
  {
   "cell_type": "code",
   "execution_count": null,
   "metadata": {},
   "outputs": [],
   "source": [
    "######################### Constants and settings ###############################\n",
    "\n",
    "output_folder_path = '/home/user/projects/urban/data/input/Rent/commercialexchange/retail/results'\n",
    "clean_rent_folder_path = '/home/user/projects/urban/data/output/rent'\n",
    "\n",
    "pd.options.display.max_rows = 999\n",
    "\n",
    "################################################################################"
   ]
  },
  {
   "cell_type": "code",
   "execution_count": null,
   "metadata": {},
   "outputs": [],
   "source": [
    "# Get all files \n",
    "files = [f for f in os.listdir(output_folder_path) if os.path.isfile(os.path.join(output_folder_path, f))]\n",
    "# Import the data from files\n",
    "datasets = []\n",
    "for f in files:\n",
    "    with open(os.path.join(output_folder_path, f), 'r') as the_file:\n",
    "        try:\n",
    "            raw = json.load(the_file)\n",
    "        except (json.JSONDecodeError, UnicodeDecodeError):\n",
    "            print(f)\n",
    "            raise\n",
    "        part = []\n",
    "        pid = raw['id']\n",
    "        try:\n",
    "            zip_code = raw['location']['address']['postalCode']\n",
    "        except KeyError:\n",
    "            continue\n",
    "        space = raw['listedSpaces']\n",
    "        if (not space) or (not 'lease' in space[0]):\n",
    "            continue\n",
    "        try:\n",
    "            size = space[0]['space']['size']['available']\n",
    "        except KeyError:\n",
    "            size = None\n",
    "        lease = space[0]['lease']\n",
    "        if not 'askingRent' in lease:\n",
    "            continue\n",
    "        if (not lease) or (not 'askingRent' in lease):\n",
    "            continue\n",
    "        rent = lease['askingRent']\n",
    "        if not rent:\n",
    "            continue\n",
    "        rent = rent[0]\n",
    "        price_min = rent['price']['amount']['minimum']['amount'] if 'minimum' in rent['price']['amount'] else None\n",
    "        price_max = rent['price']['amount']['maximum']['amount'] if 'maximum' in rent['price']['amount'] else None\n",
    "        price_period = rent['price']['period']\n",
    "        try:\n",
    "            price_size = rent['price']['size']\n",
    "        except KeyError:\n",
    "            price_size = None\n",
    "        part = {'pid': pid, \n",
    "                'zip_code': zip_code, \n",
    "                'size': size,\n",
    "                'price_min': price_min, \n",
    "                'price_max': price_max,\n",
    "                'period': price_period, \n",
    "                'price_size': price_size}\n",
    "        datasets.append(part)"
   ]
  },
  {
   "cell_type": "code",
   "execution_count": null,
   "metadata": {},
   "outputs": [],
   "source": [
    "# Append data, drop duplicates\n",
    "data = pd.DataFrame(datasets)\n",
    "data.drop_duplicates(inplace = True)"
   ]
  },
  {
   "cell_type": "code",
   "execution_count": null,
   "metadata": {},
   "outputs": [],
   "source": [
    "data.head()"
   ]
  },
  {
   "cell_type": "code",
   "execution_count": null,
   "metadata": {},
   "outputs": [],
   "source": [
    "data['period'].unique()"
   ]
  },
  {
   "cell_type": "code",
   "execution_count": null,
   "metadata": {},
   "outputs": [],
   "source": [
    "data['price_size'].unique()"
   ]
  },
  {
   "cell_type": "code",
   "execution_count": null,
   "metadata": {},
   "outputs": [],
   "source": [
    "# Unify the price / rent data\n",
    "data['price'] = data.apply(lambda row: np.nanmean([row['price_min'], row['price_max']]),\n",
    "                           axis = 1)\n",
    "data['rate'] = data.apply(lambda row: row['price'] / 12 if row['period'] == 'ANNUAL' else row['price'],\n",
    "                          axis = 1)\n",
    "data['rate'] = data.apply(lambda row: row['rate'] / row['size'] if row['price_size'] == 'TOTAL' else row['rate'],\n",
    "                          axis = 1)"
   ]
  },
  {
   "cell_type": "code",
   "execution_count": null,
   "metadata": {},
   "outputs": [],
   "source": [
    "# Drop outliers\n",
    "data.drop(data[data['rate'] >= 500].index, inplace = True)"
   ]
  },
  {
   "cell_type": "code",
   "execution_count": null,
   "metadata": {},
   "outputs": [],
   "source": [
    "# Rename columns\n",
    "data.rename(columns = {'size': 'footage'}, inplace = True)\n",
    "# Assign retail type (this is how requests were made)\n",
    "data['type'] = 'Retail'\n",
    "# Assign source\n",
    "data['source'] = 'commercialexchange'"
   ]
  },
  {
   "cell_type": "code",
   "execution_count": null,
   "metadata": {
    "scrolled": true
   },
   "outputs": [],
   "source": [
    "data.head()"
   ]
  },
  {
   "cell_type": "code",
   "execution_count": null,
   "metadata": {},
   "outputs": [],
   "source": [
    "data[['source',\n",
    "      'zip_code',\n",
    "      'type',\n",
    "      'rate', \n",
    "      'footage']\n",
    "    ].to_csv(os.path.join(clean_rent_folder_path, 'commercialexchange_listings.csv'))"
   ]
  },
  {
   "cell_type": "code",
   "execution_count": null,
   "metadata": {},
   "outputs": [],
   "source": [
    "subdata = data[['zip_code','rent']].groupby('zip_code').aggregate({'rent': 'mean'})"
   ]
  },
  {
   "cell_type": "code",
   "execution_count": null,
   "metadata": {},
   "outputs": [],
   "source": [
    "subdata.shape"
   ]
  },
  {
   "cell_type": "code",
   "execution_count": null,
   "metadata": {},
   "outputs": [],
   "source": [
    "subdata.reset_index(inplace = True)"
   ]
  },
  {
   "cell_type": "code",
   "execution_count": null,
   "metadata": {},
   "outputs": [],
   "source": [
    "######################### Database connections #################################\n",
    "\n",
    "# Connect to the database via SQLalchemy                                                                           \n",
    "engine = db.create_engine('postgresql://{user}:{user_pass}@{host}/{dataname2}')                                                       \n",
    "connection = engine.connect()                                                                                      \n",
    "\n",
    "################################################################################"
   ]
  },
  {
   "cell_type": "code",
   "execution_count": null,
   "metadata": {},
   "outputs": [],
   "source": [
    "# Create a table with mean restaurant visits in zip_code\n",
    "zip_restaurants_table_statement = \"\"\"\n",
    "WITH month_restaurants AS (\n",
    "    SELECT\n",
    "        r.sname_place_id,\n",
    "        r.zip_code,\n",
    "        v.raw_visit_counts\n",
    "    FROM\n",
    "        restaurants AS r\n",
    "    LEFT JOIN\n",
    "        visits AS v\n",
    "    ON  \n",
    "        r.sname_place_id = v.sname_place_id\n",
    "    AND\n",
    "        v.year = 2018 \n",
    "    AND\n",
    "        v.month = 10\n",
    ") \n",
    "SELECT \n",
    "    zip_code,\n",
    "    AVG(raw_visit_counts) AS avg_rest_visits\n",
    "FROM\n",
    "    month_restaurants\n",
    "WHERE \n",
    "    raw_visit_counts IS NOT NULL\n",
    "GROUP BY \n",
    "    zip_code;\n",
    "\"\"\"\n",
    "\n",
    "zip_restaurants_table = pd.read_sql(zip_restaurants_table_statement, engine)"
   ]
  },
  {
   "cell_type": "code",
   "execution_count": null,
   "metadata": {},
   "outputs": [],
   "source": [
    "####################### Close database connections #############################\n",
    "\n",
    "engine.dispose()\n",
    "\n",
    "################################################################################"
   ]
  },
  {
   "cell_type": "code",
   "execution_count": null,
   "metadata": {},
   "outputs": [],
   "source": [
    "merged = pd.merge(zip_restaurants_table, \n",
    "                  subdata, \n",
    "                  how = 'inner', \n",
    "                  on = 'zip_code', \n",
    "                  validate = 'one_to_one')"
   ]
  },
  {
   "cell_type": "code",
   "execution_count": null,
   "metadata": {},
   "outputs": [],
   "source": [
    "sns.regplot(x = 'avg_rest_visits', y = 'rent', data = merged)"
   ]
  },
  {
   "cell_type": "code",
   "execution_count": null,
   "metadata": {},
   "outputs": [],
   "source": [
    "%Rpush merged"
   ]
  },
  {
   "cell_type": "code",
   "execution_count": null,
   "metadata": {},
   "outputs": [],
   "source": [
    "%%R\n",
    "library(ggplot2)\n",
    "library(dplyr)\n",
    "# Function to remove outliers\n",
    "remove_outliers <- function(x, na.rm = TRUE, ...) {\n",
    "    qnt <- quantile(x, probs=c(.25, .75), na.rm = na.rm, ...)\n",
    "    H <- 1 * IQR(x, na.rm = na.rm)\n",
    "    y <- x\n",
    "    y[x < (qnt[1] - H)] <- NA\n",
    "    y[x > (qnt[2] + H)] <- NA\n",
    "    y\n",
    "}\n",
    "# Remove outliers\n",
    "merged <- merged %>% \n",
    "    mutate_at(vars(avg_rest_visits, rent), \n",
    "              funs(remove_outliers))\n",
    "# Plot \n",
    "ggplot(data = merged, \n",
    "       aes(x = avg_rest_visits, \n",
    "           y = rent)) + \n",
    "    geom_smooth() + \n",
    "    stat_summary_bin(fun.y = 'mean', bins = 30, size = 1, geom = 'point') +\n",
    "    scale_color_brewer(palette = 'Set1') + \n",
    "    scale_fill_brewer(palette = 'Set1')"
   ]
  },
  {
   "cell_type": "code",
   "execution_count": null,
   "metadata": {},
   "outputs": [],
   "source": []
  }
 ],
 "metadata": {
  "kernelspec": {
   "display_name": "Python 3",
   "language": "python",
   "name": "python3"
  },
  "language_info": {
   "codemirror_mode": {
    "name": "ipython",
    "version": 3
   },
   "file_extension": ".py",
   "mimetype": "text/x-python",
   "name": "python",
   "nbconvert_exporter": "python",
   "pygments_lexer": "ipython3",
   "version": "3.6.9"
  }
 },
 "nbformat": 4,
 "nbformat_minor": 2
}
