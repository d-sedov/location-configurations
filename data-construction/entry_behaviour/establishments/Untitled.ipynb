{
 "cells": [
  {
   "cell_type": "code",
   "execution_count": 1,
   "metadata": {},
   "outputs": [],
   "source": [
    "import psycopg2\n",
    "import sys, os\n",
    "import numpy as np\n",
    "import pandas as pd\n",
    "pd.options.mode.chained_assignment = None  # default='warn'"
   ]
  },
  {
   "cell_type": "code",
   "execution_count": 2,
   "metadata": {},
   "outputs": [],
   "source": [
    "conn_uri = 'postgresql://{user}:{user_pass}@{host}/{dataname2}'"
   ]
  },
  {
   "cell_type": "code",
   "execution_count": 3,
   "metadata": {},
   "outputs": [],
   "source": [
    "t_visits_by_month = pd.read_sql_table(\"t_visits_by_month\", conn_uri)"
   ]
  },
  {
   "cell_type": "code",
   "execution_count": 4,
   "metadata": {},
   "outputs": [],
   "source": [
    "def sign_idx(idx_array):\n",
    "    np_arr = np.array(idx_array)\n",
    "    where = [np.where(np_arr == i) for i in [0,1]]\n",
    "    [max_0_idx, max_1_idx] = [ np.max( w, initial = -1) for w in where]\n",
    "    [min_0_idx, min_1_idx] = [ np.min( w, initial = np_arr.size)  for w in where]\n",
    "    if (max_0_idx < min_1_idx and max_0_idx != -1) and min_1_idx != np_arr.size:\n",
    "        return (max_0_idx == min_1_idx - 1, max_0_idx, 1)\n",
    "    elif (max_1_idx < min_0_idx and max_1_idx != -1) and min_0_idx != np_arr.size:\n",
    "        return (max_1_idx == min_0_idx - 1, max_1_idx, 0)\n",
    "    else:\n",
    "        all_same_idx = 1 - np.max(np.where(np.array([max_0_idx, max_1_idx])==-1),initial=-1)\n",
    "        return (False, all_same_idx, 2)"
   ]
  },
  {
   "cell_type": "code",
   "execution_count": 5,
   "metadata": {},
   "outputs": [],
   "source": [
    "def create_groups(visits_df):\n",
    "    result = visits_df.copy()\n",
    "    result[['0','1','2']] = result.apply(lambda x: sign_idx(x['months_idx']), axis=1, result_type='expand')\n",
    "    result.drop(columns=['months_idx'], inplace=True)\n",
    "    result.columns = ['is_special','kind','group']\n",
    "    return result"
   ]
  },
  {
   "cell_type": "code",
   "execution_count": 11,
   "metadata": {},
   "outputs": [],
   "source": [
    "%%capture\n",
    "result = create_groups(t_visits_by_month)"
   ]
  },
  {
   "cell_type": "code",
   "execution_count": 207,
   "metadata": {},
   "outputs": [],
   "source": [
    "# df = pd.DataFrame([{'months_idx':[1,1,0,0,0,0]},\n",
    "#                    {'months_idx':[0,0,0,1,1]},\n",
    "#                    {'months_idx':[0,0,0,0,0]},\n",
    "#                    {'months_idx':[1,1,1,1,1]},\n",
    "#                    {'months_idx':[0,0,0,0,0]},\n",
    "#                    {'months_idx':[1,0,1,0,1]}]) "
   ]
  },
  {
   "cell_type": "code",
   "execution_count": 14,
   "metadata": {
    "scrolled": true
   },
   "outputs": [
    {
     "data": {
      "text/plain": [
       "12374580"
      ]
     },
     "execution_count": 14,
     "metadata": {},
     "output_type": "execute_result"
    }
   ],
   "source": [
    "result.size"
   ]
  },
  {
   "cell_type": "code",
   "execution_count": 152,
   "metadata": {},
   "outputs": [
    {
     "data": {
      "text/plain": [
       "(True, 1, 0)"
      ]
     },
     "execution_count": 152,
     "metadata": {},
     "output_type": "execute_result"
    }
   ],
   "source": [
    "sign_idx([1,1,0,0,0,0])"
   ]
  },
  {
   "cell_type": "code",
   "execution_count": 153,
   "metadata": {},
   "outputs": [
    {
     "data": {
      "text/plain": [
       "(True, 2, 1)"
      ]
     },
     "execution_count": 153,
     "metadata": {},
     "output_type": "execute_result"
    }
   ],
   "source": [
    "sign_idx([0,0,0,1,1])"
   ]
  },
  {
   "cell_type": "code",
   "execution_count": 154,
   "metadata": {},
   "outputs": [
    {
     "data": {
      "text/plain": [
       "(False, 0, 2)"
      ]
     },
     "execution_count": 154,
     "metadata": {},
     "output_type": "execute_result"
    }
   ],
   "source": [
    "sign_idx([0,0,0,0,0])"
   ]
  },
  {
   "cell_type": "code",
   "execution_count": 155,
   "metadata": {},
   "outputs": [
    {
     "data": {
      "text/plain": [
       "(False, 1, 2)"
      ]
     },
     "execution_count": 155,
     "metadata": {},
     "output_type": "execute_result"
    }
   ],
   "source": [
    "sign_idx([1,1,1,1,1])"
   ]
  },
  {
   "cell_type": "code",
   "execution_count": 156,
   "metadata": {},
   "outputs": [
    {
     "data": {
      "text/plain": [
       "(False, 0, 2)"
      ]
     },
     "execution_count": 156,
     "metadata": {},
     "output_type": "execute_result"
    }
   ],
   "source": [
    "sign_idx([0,0,0,0,0])"
   ]
  },
  {
   "cell_type": "code",
   "execution_count": 157,
   "metadata": {},
   "outputs": [
    {
     "data": {
      "text/plain": [
       "(False, 2, 2)"
      ]
     },
     "execution_count": 157,
     "metadata": {},
     "output_type": "execute_result"
    }
   ],
   "source": [
    "sign_idx([1,0,1,0,1])"
   ]
  },
  {
   "cell_type": "code",
   "execution_count": 15,
   "metadata": {},
   "outputs": [
    {
     "data": {
      "text/html": [
       "<div>\n",
       "<style scoped>\n",
       "    .dataframe tbody tr th:only-of-type {\n",
       "        vertical-align: middle;\n",
       "    }\n",
       "\n",
       "    .dataframe tbody tr th {\n",
       "        vertical-align: top;\n",
       "    }\n",
       "\n",
       "    .dataframe thead th {\n",
       "        text-align: right;\n",
       "    }\n",
       "</style>\n",
       "<table border=\"1\" class=\"dataframe\">\n",
       "  <thead>\n",
       "    <tr style=\"text-align: right;\">\n",
       "      <th></th>\n",
       "      <th>is_special</th>\n",
       "      <th>kind</th>\n",
       "      <th>group</th>\n",
       "    </tr>\n",
       "    <tr>\n",
       "      <th>sname_place_id</th>\n",
       "      <th></th>\n",
       "      <th></th>\n",
       "      <th></th>\n",
       "    </tr>\n",
       "  </thead>\n",
       "  <tbody>\n",
       "    <tr>\n",
       "      <th>sg:000000c8f55d451ca1ae98bd057785a7</th>\n",
       "      <td>False</td>\n",
       "      <td>1</td>\n",
       "      <td>2</td>\n",
       "    </tr>\n",
       "    <tr>\n",
       "      <th>sg:000008c003ab41d9b6a8d1e58e4992ea</th>\n",
       "      <td>False</td>\n",
       "      <td>1</td>\n",
       "      <td>2</td>\n",
       "    </tr>\n",
       "    <tr>\n",
       "      <th>sg:00000f3789674e609a147b58323674d3</th>\n",
       "      <td>False</td>\n",
       "      <td>2</td>\n",
       "      <td>2</td>\n",
       "    </tr>\n",
       "    <tr>\n",
       "      <th>sg:00000fa74bd34d2086739db446b632e4</th>\n",
       "      <td>False</td>\n",
       "      <td>1</td>\n",
       "      <td>2</td>\n",
       "    </tr>\n",
       "    <tr>\n",
       "      <th>sg:00001b8625b64052888b8c2f2e3736bb</th>\n",
       "      <td>False</td>\n",
       "      <td>1</td>\n",
       "      <td>2</td>\n",
       "    </tr>\n",
       "  </tbody>\n",
       "</table>\n",
       "</div>"
      ],
      "text/plain": [
       "                                     is_special  kind  group\n",
       "sname_place_id                                          \n",
       "sg:000000c8f55d451ca1ae98bd057785a7       False     1      2\n",
       "sg:000008c003ab41d9b6a8d1e58e4992ea       False     1      2\n",
       "sg:00000f3789674e609a147b58323674d3       False     2      2\n",
       "sg:00000fa74bd34d2086739db446b632e4       False     1      2\n",
       "sg:00001b8625b64052888b8c2f2e3736bb       False     1      2"
      ]
     },
     "execution_count": 15,
     "metadata": {},
     "output_type": "execute_result"
    }
   ],
   "source": [
    "result.head()"
   ]
  },
  {
   "cell_type": "code",
   "execution_count": 16,
   "metadata": {},
   "outputs": [],
   "source": [
    "from sqlalchemy import create_engine\n",
    "engine = create_engine(conn_uri)\n",
    "result.to_sql(\n",
    "            \"entry_info\",\n",
    "               engine,\n",
    "               if_exists='replace',\n",
    "               schema='public',\n",
    "               index=True,\n",
    "               chunksize=50000\n",
    "            )"
   ]
  },
  {
   "cell_type": "code",
   "execution_count": null,
   "metadata": {},
   "outputs": [],
   "source": []
  }
 ],
 "metadata": {
  "kernelspec": {
   "display_name": "Python 3",
   "language": "python",
   "name": "python3"
  },
  "language_info": {
   "codemirror_mode": {
    "name": "ipython",
    "version": 3
   },
   "file_extension": ".py",
   "mimetype": "text/x-python",
   "name": "python",
   "nbconvert_exporter": "python",
   "pygments_lexer": "ipython3",
   "version": "3.6.8"
  }
 },
 "nbformat": 4,
 "nbformat_minor": 2
}
