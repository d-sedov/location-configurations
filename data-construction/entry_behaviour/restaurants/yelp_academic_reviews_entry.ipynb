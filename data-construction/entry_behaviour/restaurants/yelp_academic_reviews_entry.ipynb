{
 "cells": [
  {
   "cell_type": "code",
   "execution_count": null,
   "metadata": {},
   "outputs": [],
   "source": [
    "################################################################################\n",
    "################################################################################\n",
    "#\n",
    "# FILE: yelp_academic_reviews_entry.ipynb \n",
    "#\n",
    "# BY: Dmitry Sedov \n",
    "#\n",
    "# CREATED: Mon Apr 13 2020\n",
    "#\n",
    "# DESC: This code import the Yelp academic dataset with reviews and backs out the \n",
    "#       entry date from the reviews.\n",
    "#\n",
    "# EXEC: \n",
    "#      \n",
    "################################################################################\n",
    "################################################################################"
   ]
  },
  {
   "cell_type": "code",
   "execution_count": null,
   "metadata": {},
   "outputs": [],
   "source": [
    "############################### Libraries ######################################\n",
    "\n",
    "import os \n",
    "import json\n",
    "\n",
    "import pandas as pd\n",
    "import sqlalchemy as db\n",
    "\n",
    "import numpy as np\n",
    "\n",
    "################################################################################"
   ]
  },
  {
   "cell_type": "code",
   "execution_count": null,
   "metadata": {},
   "outputs": [],
   "source": [
    "################################## Constants ###################################\n",
    "\n",
    "input_folder_path = '/home/user/projects/urban/data/input/Yelp/academic'\n",
    "review_file_name = 'review.json'\n",
    "keys = ['business_id', 'stars', 'date']\n",
    "\n",
    "################################################################################"
   ]
  },
  {
   "cell_type": "code",
   "execution_count": null,
   "metadata": {},
   "outputs": [],
   "source": [
    "%%time\n",
    "\n",
    "all_reviews = []\n",
    "with open(os.path.join(input_folder_path, review_file_name), 'r') as the_file:\n",
    "    for line in the_file:\n",
    "        review = json.loads(line.strip())\n",
    "        review = {key: review[key] for key in keys}\n",
    "        all_reviews.append(review)"
   ]
  },
  {
   "cell_type": "code",
   "execution_count": null,
   "metadata": {},
   "outputs": [],
   "source": [
    "all_reviews = pd.DataFrame(all_reviews)"
   ]
  },
  {
   "cell_type": "code",
   "execution_count": null,
   "metadata": {},
   "outputs": [],
   "source": [
    "all_reviews.head()"
   ]
  },
  {
   "cell_type": "code",
   "execution_count": null,
   "metadata": {},
   "outputs": [],
   "source": [
    "all_reviews['review_date'] = pd.to_datetime(all_reviews['date'], format = '%Y-%m-%d %H:%M:%S')"
   ]
  },
  {
   "cell_type": "code",
   "execution_count": null,
   "metadata": {},
   "outputs": [],
   "source": [
    "all_reviews.drop(columns = ['date'], inplace = True)"
   ]
  },
  {
   "cell_type": "code",
   "execution_count": null,
   "metadata": {},
   "outputs": [],
   "source": [
    "all_reviews.head()"
   ]
  },
  {
   "cell_type": "code",
   "execution_count": null,
   "metadata": {},
   "outputs": [],
   "source": [
    "reviews_by_business = all_reviews[['business_id', \n",
    "                                   'review_date']\n",
    "                                 ].groupby('business_id').aggregate({'review_date': ['count', np.min, np.max]})"
   ]
  },
  {
   "cell_type": "code",
   "execution_count": null,
   "metadata": {},
   "outputs": [],
   "source": [
    "reviews_by_business.reset_index(inplace = True)"
   ]
  },
  {
   "cell_type": "code",
   "execution_count": null,
   "metadata": {},
   "outputs": [],
   "source": [
    "reviews_by_business.head()"
   ]
  },
  {
   "cell_type": "code",
   "execution_count": null,
   "metadata": {},
   "outputs": [],
   "source": [
    "reviews_by_business.columns = ['_'.join(col).strip() for col in reviews_by_business.columns.values]"
   ]
  },
  {
   "cell_type": "code",
   "execution_count": null,
   "metadata": {},
   "outputs": [],
   "source": [
    "start_date = '2017-06-01 00:00:00'\n",
    "end_date = '2019-07-01 00:00:00'\n",
    "mask = (reviews_by_business['review_date_amin'] > start_date) & (reviews_by_business['review_date_amin'] <= end_date)\n",
    "test = reviews_by_business.loc[mask]"
   ]
  },
  {
   "cell_type": "code",
   "execution_count": null,
   "metadata": {},
   "outputs": [],
   "source": [
    "test"
   ]
  },
  {
   "cell_type": "code",
   "execution_count": null,
   "metadata": {},
   "outputs": [],
   "source": [
    "######################### Database connections #################################\n",
    "\n",
    "# Connect to the database via SQLalchemy                                                                           \n",
    "engine = db.create_engine('postgresql://{user}:{user_pass}@{host}/{dataname2}')                                                       \n",
    "connection = engine.connect()                                                                                      \n",
    "\n",
    "################################################################################"
   ]
  },
  {
   "cell_type": "code",
   "execution_count": null,
   "metadata": {},
   "outputs": [],
   "source": [
    "# Create a table with mean restaurant visits in zip_code\n",
    "restaurants_table_statement = \"\"\"\n",
    "SELECT\n",
    "    y_id,\n",
    "    zip_code\n",
    "FROM\n",
    "    restaurants;\n",
    "\"\"\"\n",
    "restaurants_table = pd.read_sql(restaurants_table_statement, engine)"
   ]
  },
  {
   "cell_type": "code",
   "execution_count": null,
   "metadata": {},
   "outputs": [],
   "source": [
    "####################### Close database connections #############################\n",
    "\n",
    "engine.dispose()\n",
    "\n",
    "################################################################################"
   ]
  },
  {
   "cell_type": "code",
   "execution_count": null,
   "metadata": {},
   "outputs": [],
   "source": [
    "restaurants_table.head()"
   ]
  },
  {
   "cell_type": "code",
   "execution_count": null,
   "metadata": {},
   "outputs": [],
   "source": [
    "merged = pd.merge(restaurants_table,\n",
    "                  test, \n",
    "                  how = 'inner', \n",
    "                  left_on = 'y_id', \n",
    "                  right_on = 'business_id_')"
   ]
  },
  {
   "cell_type": "code",
   "execution_count": null,
   "metadata": {},
   "outputs": [],
   "source": [
    "merged.shape"
   ]
  },
  {
   "cell_type": "code",
   "execution_count": null,
   "metadata": {},
   "outputs": [],
   "source": []
  }
 ],
 "metadata": {
  "kernelspec": {
   "display_name": "Python 3",
   "language": "python",
   "name": "python3"
  },
  "language_info": {
   "codemirror_mode": {
    "name": "ipython",
    "version": 3
   },
   "file_extension": ".py",
   "mimetype": "text/x-python",
   "name": "python",
   "nbconvert_exporter": "python",
   "pygments_lexer": "ipython3",
   "version": "3.6.8"
  }
 },
 "nbformat": 4,
 "nbformat_minor": 2
}
