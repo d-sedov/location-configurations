{
 "cells": [
  {
   "cell_type": "code",
   "execution_count": null,
   "metadata": {},
   "outputs": [],
   "source": [
    "################################################################################\n",
    "################################################################################\n",
    "#\n",
    "# FILE: create_review_requests_table.ipynb \n",
    "#\n",
    "# BY: Dmitry Sedov \n",
    "#\n",
    "# CREATED: Thu Apr 9 2020\n",
    "#\n",
    "# DESC: This code creates a table with yelp ids for which reviews requests will\n",
    "#       be made. \n",
    "#\n",
    "# EXEC: \n",
    "#      \n",
    "################################################################################\n",
    "################################################################################"
   ]
  },
  {
   "cell_type": "code",
   "execution_count": null,
   "metadata": {},
   "outputs": [],
   "source": [
    "################################ Libraries #####################################\n",
    "\n",
    "import sqlalchemy as db\n",
    "import pandas as pd\n",
    "import numpy as np\n",
    "\n",
    "################################################################################"
   ]
  },
  {
   "cell_type": "code",
   "execution_count": null,
   "metadata": {},
   "outputs": [],
   "source": [
    "############################## SQL statements ##################################\n",
    "\n",
    "get_restaurant_ids = \"\"\"\n",
    "SELECT \n",
    "    y_id,\n",
    "    cbsa,\n",
    "    COUNT (y_id) OVER (\n",
    "        PARTITION BY cbsa\n",
    "    ) AS cbsa_count\n",
    "FROM \n",
    "    restaurants\n",
    "WHERE\n",
    "    y_id IS NOT NULL\n",
    "\"\"\"\n",
    "\n",
    "################################################################################"
   ]
  },
  {
   "cell_type": "code",
   "execution_count": null,
   "metadata": {},
   "outputs": [],
   "source": [
    "################################################################################\n",
    "\n",
    "engine_master = db.create_engine('postgresql://{user}:{user_pass}@{host}/{dataname2}')\n",
    "\n",
    "restaurants_for_requests = pd.read_sql(get_restaurant_ids, engine_master)\n",
    "\n",
    "engine_master.dispose()\n",
    "\n",
    "################################################################################"
   ]
  },
  {
   "cell_type": "code",
   "execution_count": null,
   "metadata": {},
   "outputs": [],
   "source": [
    "restaurants_for_requests.head(25)"
   ]
  },
  {
   "cell_type": "code",
   "execution_count": null,
   "metadata": {},
   "outputs": [],
   "source": [
    "restaurants_for_requests.shape"
   ]
  },
  {
   "cell_type": "code",
   "execution_count": null,
   "metadata": {},
   "outputs": [],
   "source": [
    "# Assign priority\n",
    "restaurants_for_requests['priority'] = np.select(\n",
    "    [restaurants_for_requests['cbsa_count'].between(1, 500, inclusive = True),\n",
    "     restaurants_for_requests['cbsa_count'].between(501, 1000, inclusive = True), \n",
    "     restaurants_for_requests['cbsa_count'].between(1001, 5000, inclusive = True),\n",
    "     restaurants_for_requests['cbsa_count'].between(5001, 10000, inclusive = True),\n",
    "     restaurants_for_requests['cbsa_count'].between(10001, 500000, inclusive = True)\n",
    "    ], \n",
    "    [5,\n",
    "     3,\n",
    "     1,\n",
    "     2,\n",
    "     4\n",
    "    ], \n",
    "    default = 0\n",
    ")"
   ]
  },
  {
   "cell_type": "code",
   "execution_count": null,
   "metadata": {},
   "outputs": [],
   "source": [
    "# Sort by market size\n",
    "restaurants_for_requests.sort_values(['priority', 'cbsa_count'], ascending = [True, False], inplace = True)"
   ]
  },
  {
   "cell_type": "code",
   "execution_count": null,
   "metadata": {},
   "outputs": [],
   "source": [
    "# Status and error message columns\n",
    "restaurants_for_requests['review_request_status'] = 'needed'\n",
    "restaurants_for_requests['review_error_message'] = None"
   ]
  },
  {
   "cell_type": "code",
   "execution_count": null,
   "metadata": {},
   "outputs": [],
   "source": [
    "# Reset index\n",
    "restaurants_for_requests.reset_index(drop = True, inplace = True)"
   ]
  },
  {
   "cell_type": "code",
   "execution_count": null,
   "metadata": {},
   "outputs": [],
   "source": [
    "restaurants_for_requests.head(25)"
   ]
  },
  {
   "cell_type": "code",
   "execution_count": null,
   "metadata": {},
   "outputs": [],
   "source": [
    "restaurants_for_requests.shape"
   ]
  },
  {
   "cell_type": "code",
   "execution_count": null,
   "metadata": {},
   "outputs": [],
   "source": [
    "# Export\n",
    "\n",
    "engine_urban = db.create_engine('postgresql://{user}:{user_pass}@{host}/{dataname1}')\n",
    "connection_urban = engine_urban.connect()\n",
    "\n",
    "restaurants_for_requests.to_sql('review_requests', \n",
    "                                con = engine_urban, \n",
    "                                index = True, \n",
    "                                index_label = 'row_id',\n",
    "                                dtype = {'review_error_message': db.types.VARCHAR}\n",
    "                               )\n",
    "connection_urban.execute('ALTER TABLE review_requests ADD PRIMARY KEY (row_id);')\n",
    "\n",
    "engine_urban.dispose()"
   ]
  },
  {
   "cell_type": "code",
   "execution_count": null,
   "metadata": {},
   "outputs": [],
   "source": []
  }
 ],
 "metadata": {
  "kernelspec": {
   "display_name": "Python 3",
   "language": "python",
   "name": "python3"
  },
  "language_info": {
   "codemirror_mode": {
    "name": "ipython",
    "version": 3
   },
   "file_extension": ".py",
   "mimetype": "text/x-python",
   "name": "python",
   "nbconvert_exporter": "python",
   "pygments_lexer": "ipython3",
   "version": "3.6.8"
  }
 },
 "nbformat": 4,
 "nbformat_minor": 2
}
