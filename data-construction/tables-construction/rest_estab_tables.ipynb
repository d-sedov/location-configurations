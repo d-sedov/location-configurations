{
 "cells": [
  {
   "cell_type": "code",
   "execution_count": 1,
   "metadata": {},
   "outputs": [],
   "source": [
    "################################################################################                                                                                                                                                              \n",
    "################################################################################\n",
    "#\n",
    "# FILE: rest_estab_tables.ipynb\n",
    "#\n",
    "# BY: Dmitry Sedov \n",
    "#\n",
    "# CREATED: Thu Feb 6 2020\n",
    "#\n",
    "# DESC: This file contains the code that creates two tables: \n",
    "#       1) restaurants\n",
    "#       2) establishments\n",
    "#\n",
    "# EXEC: \n",
    "#      \n",
    "################################################################################\n",
    "################################################################################"
   ]
  },
  {
   "cell_type": "code",
   "execution_count": 2,
   "metadata": {},
   "outputs": [],
   "source": [
    "################################ Libraries #####################################\n",
    "\n",
    "import sqlalchemy as db\n",
    "\n",
    "################################################################################"
   ]
  },
  {
   "cell_type": "code",
   "execution_count": 3,
   "metadata": {},
   "outputs": [],
   "source": [
    "############################## SQL statements ##################################\n",
    "\n",
    "# Create the restaurants table\n",
    "create_all_restauarants_table_statement = \"\"\"\n",
    "CREATE TABLE all_restaurants AS (\n",
    "    SELECT \n",
    "        p.*,\n",
    "        g.latitude,\n",
    "        g.longitude,\n",
    "        g.includes_parking_lot,\n",
    "        g.is_synthetic,\n",
    "        g.area_m2,\n",
    "        g.cbg,\n",
    "        g.cbsa,\n",
    "        m.y_id,\n",
    "        y.categories,\n",
    "        y.price,\n",
    "        y.rating,\n",
    "        y.review_count,\n",
    "        y.phone AS yelp_phone\n",
    "    FROM\n",
    "        pois AS p\n",
    "    LEFT JOIN \n",
    "        geometry_pois AS g\n",
    "    ON \n",
    "        p.sname_place_id = g.sname_place_id\n",
    "    LEFT JOIN\n",
    "        sg_yelp_matching AS m\n",
    "    ON \n",
    "        p.sname_place_id = m.sname_place_id\n",
    "    LEFT JOIN\n",
    "        all_yelp_restaurants AS y\n",
    "    ON \n",
    "        m.y_id = y.id\n",
    "    WHERE\n",
    "        p.naics_code IN (722511, 722513)\n",
    ");\n",
    "\"\"\"\n",
    "\n",
    "\n",
    "create_all_establishments_table_statement = \"\"\"\n",
    "CREATE TABLE all_establishments AS (\n",
    "    SELECT \n",
    "        p.*,\n",
    "        g.latitude,\n",
    "        g.longitude,\n",
    "        g.includes_parking_lot,\n",
    "        g.is_synthetic,\n",
    "        g.area_m2,\n",
    "        g.cbg,\n",
    "        g.cbsa\n",
    "    FROM\n",
    "        pois AS p\n",
    "    LEFT JOIN \n",
    "        geometry_pois AS g\n",
    "    ON \n",
    "        p.sname_place_id = g.sname_place_id\n",
    "    WHERE\n",
    "        p.naics_code NOT IN (722511, 722513)\n",
    ");\n",
    "\"\"\"\n",
    "\n",
    "################################################################################"
   ]
  },
  {
   "cell_type": "code",
   "execution_count": 4,
   "metadata": {},
   "outputs": [],
   "source": [
    "engine = db.create_engine('postgresql://{user}:{user_pass}@{host}/{dataname1}')\n",
    "connection = engine.connect()"
   ]
  },
  {
   "cell_type": "code",
   "execution_count": 5,
   "metadata": {},
   "outputs": [
    {
     "data": {
      "text/plain": [
       "<sqlalchemy.engine.result.ResultProxy at 0x7fdb559c2828>"
      ]
     },
     "execution_count": 5,
     "metadata": {},
     "output_type": "execute_result"
    }
   ],
   "source": [
    "connection.execute(create_all_restauarants_table_statement)\n",
    "connection.execute(create_all_establishments_table_statement)"
   ]
  },
  {
   "cell_type": "code",
   "execution_count": 6,
   "metadata": {},
   "outputs": [],
   "source": [
    "engine.dispose()"
   ]
  }
 ],
 "metadata": {
  "kernelspec": {
   "display_name": "Python 3",
   "language": "python",
   "name": "python3"
  },
  "language_info": {
   "codemirror_mode": {
    "name": "ipython",
    "version": 3
   },
   "file_extension": ".py",
   "mimetype": "text/x-python",
   "name": "python",
   "nbconvert_exporter": "python",
   "pygments_lexer": "ipython3",
   "version": "3.6.8"
  }
 },
 "nbformat": 4,
 "nbformat_minor": 2
}
