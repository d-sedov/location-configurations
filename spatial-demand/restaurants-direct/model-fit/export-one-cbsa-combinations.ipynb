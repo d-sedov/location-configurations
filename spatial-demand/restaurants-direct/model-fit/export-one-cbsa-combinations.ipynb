{
 "cells": [
  {
   "cell_type": "code",
   "execution_count": 1,
   "metadata": {},
   "outputs": [],
   "source": [
    "################################################################################                                                                                                                                                              \n",
    "################################################################################\n",
    "#\n",
    "# FILE: export-one-cbsa-combinations.ipynb\n",
    "#\n",
    "# BY: Dmitry Sedov \n",
    "#\n",
    "# CREATED: Fri Mar 13 2020\n",
    "#\n",
    "# DESC: This code tables with CBG-restaurant pairs in one CBSA.\n",
    "#\n",
    "# EXEC:\n",
    "#      \n",
    "################################################################################\n",
    "################################################################################"
   ]
  },
  {
   "cell_type": "code",
   "execution_count": 2,
   "metadata": {},
   "outputs": [],
   "source": [
    "############################### Libraries ######################################\n",
    "\n",
    "import sqlalchemy as db\n",
    "import pandas as pd\n",
    "import os\n",
    "import numpy as np\n",
    "\n",
    "################################################################################"
   ]
  },
  {
   "cell_type": "code",
   "execution_count": 3,
   "metadata": {},
   "outputs": [],
   "source": [
    "######################### Constants and settings ##############################\n",
    "\n",
    "# Pandas display options\n",
    "pd.set_option('display.max_rows', 50)\n",
    "pd.set_option('display.max_columns', 50)\n",
    "pd.set_option('display.width', 1000)\n",
    "\n",
    "year = 2018\n",
    "month = 10\n",
    "output_folder_path = '/home/user/projects/urban/data/output/spatial-demand/restaurants-direct' \n",
    "\n",
    "################################################################################"
   ]
  },
  {
   "cell_type": "code",
   "execution_count": 4,
   "metadata": {},
   "outputs": [],
   "source": [
    "######################### PostgreSQL connection ################################\n",
    "\n",
    "engine = db.create_engine('postgresql://{user}:{user_pass}@{host}/{dataname2}')\n",
    "connection = engine.connect()\n",
    "\n",
    "################################################################################"
   ]
  },
  {
   "cell_type": "code",
   "execution_count": 5,
   "metadata": {},
   "outputs": [],
   "source": [
    "# Get restaurant and cbg count by cbsa\n",
    "\n",
    "restaurants_by_cbsa_table_statement = \"\"\"\n",
    "SELECT\n",
    "    cbsa,\n",
    "    COUNT(sname_place_id) AS restaurant_count\n",
    "FROM\n",
    "    restaurants\n",
    "GROUP BY\n",
    "    cbsa\n",
    ";\n",
    "\"\"\"\n",
    "\n",
    "cbgs_by_cbsa_table_statement = \"\"\"\n",
    "SELECT\n",
    "    cbsa,\n",
    "    COUNT(censusblockgroup) AS cbg_count\n",
    "FROM\n",
    "    cbgs\n",
    "GROUP BY\n",
    "    cbsa\n",
    ";\n",
    "\"\"\"\n",
    "\n",
    "restaurants_by_cbsa_table = pd.read_sql(restaurants_by_cbsa_table_statement, \n",
    "                                        engine)\n",
    "\n",
    "cbgs_by_cbsa_table = pd.read_sql(cbgs_by_cbsa_table_statement, \n",
    "                                 engine)\n",
    "\n",
    "cbsa_table = pd.merge(cbgs_by_cbsa_table, \n",
    "                      restaurants_by_cbsa_table,\n",
    "                      how = 'outer', \n",
    "                      on = 'cbsa', \n",
    "                      validate = 'one_to_one')\n",
    "\n",
    "medium = ((cbsa_table['restaurant_count'] >= 500) & (cbsa_table['restaurant_count'] <= 1000))\n",
    "\n",
    "cbsa_medium_table = cbsa_table[medium]\n",
    "\n",
    "cbsa_medium_table.reset_index(drop = True, inplace = True)"
   ]
  },
  {
   "cell_type": "code",
   "execution_count": 6,
   "metadata": {},
   "outputs": [],
   "source": [
    "# CBSA 40420 - Rockford, IL selected\n",
    "selected_cbsa = 40420\n",
    "\n",
    "# Create table with 40420 CBGs only\n",
    "create_cbgs_40420_table_statement = \"\"\"\n",
    "CREATE TEMPORARY TABLE cbgs_40420 AS (\n",
    "    SELECT \n",
    "        censusblockgroup AS cbg,\n",
    "        wkb_geometry::geography AS cbg_location\n",
    "    FROM \n",
    "        cbgs\n",
    "    WHERE\n",
    "        cbsa = '{cbsa}'\n",
    ")\n",
    "\"\"\".format(cbsa = selected_cbsa)\n",
    "\n",
    "# Create table with 40420 restaurants only\n",
    "create_restaurants_40420_table_statement = \"\"\"\n",
    "CREATE TEMPORARY TABLE restaurants_40420 AS (\n",
    "    SELECT \n",
    "        sname_place_id,\n",
    "        price,\n",
    "        rating,\n",
    "        naics_code,\n",
    "        area_m2,\n",
    "        brands,\n",
    "        categories,\n",
    "        ST_SetSRID(ST_Point(longitude, latitude), 4326)::geography AS r_location\n",
    "    FROM \n",
    "        restaurants\n",
    "    WHERE\n",
    "        cbsa = '{cbsa}'\n",
    ")\n",
    "\"\"\".format(cbsa = selected_cbsa)\n",
    "\n",
    "distances_40420_table_statement = \"\"\"\n",
    "SELECT \n",
    "    c.cbg,\n",
    "    r.sname_place_id,\n",
    "    ST_Distance(c.cbg_location, r.r_location) as distance\n",
    "FROM\n",
    "    cbgs_40420 AS c,\n",
    "    restaurants_40420 AS r\n",
    ";\n",
    "\"\"\""
   ]
  },
  {
   "cell_type": "code",
   "execution_count": 7,
   "metadata": {},
   "outputs": [],
   "source": [
    "################## CBG-restaurants pairs dataset creation ######################\n",
    "\n",
    "# Build a table of cbgs in selected cbsa\n",
    "result = engine.execute(create_cbgs_40420_table_statement)\n",
    "\n",
    "# Build a table with restaurants in selected cbsa\n",
    "result = engine.execute(create_restaurants_40420_table_statement)\n",
    "\n",
    "# Get restaurant characteristics\n",
    "cbgs_restaurants_pairs = pd.read_sql(distances_40420_table_statement,\n",
    "                                     engine)\n",
    "\n",
    "################################################################################"
   ]
  },
  {
   "cell_type": "code",
   "execution_count": 8,
   "metadata": {},
   "outputs": [],
   "source": [
    "# Create a table with CBGs' device count and CBSA affiliation\n",
    "devices_table_statement = \"\"\"\n",
    "SELECT\n",
    "    c.cbg AS cbg,\n",
    "    h.number_devices_residing\n",
    "FROM\n",
    "    cbgs_40420 AS c\n",
    "LEFT JOIN\n",
    "    home AS h\n",
    "ON\n",
    "    c.cbg = h.census_block_group \n",
    "AND\n",
    "    h.year = {year} \n",
    "AND\n",
    "    h.month = {month}\n",
    ";\n",
    "\"\"\".format(year = year, month = month)\n",
    "\n",
    "devices_table = pd.read_sql(devices_table_statement, engine)"
   ]
  },
  {
   "cell_type": "code",
   "execution_count": 9,
   "metadata": {},
   "outputs": [],
   "source": [
    "cbgs_restaurants_pairs = pd.merge(cbgs_restaurants_pairs,\n",
    "                                  devices_table, \n",
    "                                  how = 'left', \n",
    "                                  on = 'cbg', \n",
    "                                  validate = 'many_to_one')"
   ]
  },
  {
   "cell_type": "code",
   "execution_count": 10,
   "metadata": {},
   "outputs": [],
   "source": [
    "# Create a table with CBGs' device count and CBSA affiliation\n",
    "restaurants_table_statement = \"\"\"\n",
    "SELECT\n",
    "    r.sname_place_id AS sname_place_id,\n",
    "    r.price,\n",
    "    r.rating,\n",
    "    r.naics_code,\n",
    "    r.area_m2,\n",
    "    r.brands,\n",
    "    r.categories,\n",
    "    v.raw_visit_counts AS raw_visit_counts\n",
    "FROM\n",
    "    restaurants_40420 AS r\n",
    "LEFT JOIN\n",
    "    visits AS v\n",
    "ON\n",
    "    r.sname_place_id = v.sname_place_id \n",
    "AND\n",
    "    v.year = {year} \n",
    "AND\n",
    "    v.month = {month}\n",
    ";\n",
    "\"\"\".format(year = year, month = month)\n",
    "\n",
    "restaurants_table = pd.read_sql(restaurants_table_statement, engine)"
   ]
  },
  {
   "cell_type": "code",
   "execution_count": 11,
   "metadata": {},
   "outputs": [],
   "source": [
    "cbgs_restaurants_pairs = pd.merge(cbgs_restaurants_pairs,\n",
    "                                  restaurants_table, \n",
    "                                  how = 'left', \n",
    "                                  on = 'sname_place_id', \n",
    "                                  validate = 'many_to_one')"
   ]
  },
  {
   "cell_type": "code",
   "execution_count": 12,
   "metadata": {},
   "outputs": [],
   "source": [
    "########################### Close connection ###################################\n",
    "\n",
    "engine.dispose()\n",
    "\n",
    "################################################################################"
   ]
  },
  {
   "cell_type": "code",
   "execution_count": 13,
   "metadata": {},
   "outputs": [],
   "source": [
    "cbgs_restaurants_pairs['category1'] = cbgs_restaurants_pairs['categories'].apply(lambda x: x[0]['alias'] if x else None)"
   ]
  },
  {
   "cell_type": "code",
   "execution_count": 14,
   "metadata": {},
   "outputs": [],
   "source": [
    "cbgs_restaurants_pairs.drop(columns = 'categories', inplace = True)"
   ]
  },
  {
   "cell_type": "code",
   "execution_count": 15,
   "metadata": {},
   "outputs": [],
   "source": [
    "cbgs_restaurants_pairs.to_csv(os.path.join(output_folder_path, 'fit_test_40420.csv'),\n",
    "                              index = False)"
   ]
  }
 ],
 "metadata": {
  "kernelspec": {
   "display_name": "Python 3",
   "language": "python",
   "name": "python3"
  },
  "language_info": {
   "codemirror_mode": {
    "name": "ipython",
    "version": 3
   },
   "file_extension": ".py",
   "mimetype": "text/x-python",
   "name": "python",
   "nbconvert_exporter": "python",
   "pygments_lexer": "ipython3",
   "version": "3.6.8"
  }
 },
 "nbformat": 4,
 "nbformat_minor": 2
}
