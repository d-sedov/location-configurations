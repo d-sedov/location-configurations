{
 "cells": [
  {
   "cell_type": "code",
   "execution_count": 1,
   "metadata": {},
   "outputs": [],
   "source": [
    "################################################################################                                                                                                                                                              \n",
    "################################################################################\n",
    "#\n",
    "# FILE: panel_tables_combination.py\n",
    "#\n",
    "# BY: Dmitry Sedov \n",
    "#\n",
    "# CREATED: Tue Feb 18 2020\n",
    "#\n",
    "# DESC: This code constructs the full monthly panel dataset from multiple files.\n",
    "#\n",
    "# EXEC:\n",
    "#      \n",
    "################################################################################\n",
    "################################################################################"
   ]
  },
  {
   "cell_type": "code",
   "execution_count": 2,
   "metadata": {},
   "outputs": [],
   "source": [
    "################################ Libraries ######################################\n",
    "\n",
    "import os\n",
    "import pandas as pd\n",
    "import sqlalchemy as db\n",
    "import numpy as np\n",
    "\n",
    "################################################################################"
   ]
  },
  {
   "cell_type": "code",
   "execution_count": 3,
   "metadata": {},
   "outputs": [],
   "source": [
    "################################# Options ######################################\n",
    "\n",
    "input_folder_path = '/home/user/projects/urban/data/output/reduced-form'\n",
    "output_folder_path = '/home/user/projects/urban/data/output/reduced-form'\n",
    "\n",
    "################################################################################"
   ]
  },
  {
   "cell_type": "code",
   "execution_count": 4,
   "metadata": {},
   "outputs": [],
   "source": [
    "################# Preimport the restaurant features dataset ####################\n",
    "\n",
    "engine = db.create_engine('postgresql://{user}:{user_pass}@{host}/{dataname2}')\n",
    "connection = engine.connect()\n",
    "\n",
    "restaurants_table_statement = \"\"\"\n",
    "SELECT\n",
    "        r.sname_place_id AS rest_id,\n",
    "        r.cbg,\n",
    "        r.cbsa,\n",
    "        r.price,\n",
    "        r.rating\n",
    "FROM\n",
    "    restaurants AS r\n",
    ";\n",
    "\"\"\"\n",
    "\n",
    "cbgs_table_statement = \"\"\"\n",
    "SELECT\n",
    "    CONCAT(c.statefips, c.countyfips, c.tractcode) AS ct,\n",
    "    c.censusblockgroup AS cbg\n",
    "FROM\n",
    "    cbgs AS c\n",
    ";\n",
    "\"\"\"\n",
    "\n",
    "restaurants = pd.read_sql(restaurants_table_statement, engine)\n",
    "cbgs = pd.read_sql(cbgs_table_statement, engine)\n",
    "\n",
    "engine.dispose()\n",
    "\n",
    "# Merge restaurants with cbgs to get ct of each restaurant\n",
    "restaurants = pd.merge(restaurants, cbgs, how = 'left', on = 'cbg')\n",
    "assert restaurants.shape[0] == restaurants['rest_id'].nunique()\n",
    "\n",
    "# Replace -1 prices in restaurants with NaNs\n",
    "restaurants.replace(to_replace = {'price': -1.0}, \n",
    "                    value = np.nan, \n",
    "                    inplace = True)\n",
    "\n",
    "################################################################################"
   ]
  },
  {
   "cell_type": "code",
   "execution_count": 5,
   "metadata": {},
   "outputs": [],
   "source": [
    "####################### Function to merge a month of data ######################\n",
    "\n",
    "def one_month_full(vintage):\n",
    "    \n",
    "    # Get year and month of the input data\n",
    "    year, month = vintage\n",
    "    \n",
    "    print(f'Working on {year}-{month}.')\n",
    "    \n",
    "    # Construct the file paths\n",
    "    input_file_name_e = f'sql_monthly_panel_{month}_{year}_e.csv'\n",
    "    input_file_path_e = os.path.join(input_folder_path, input_file_name_e)\n",
    "    input_file_name_d = f'sql_monthly_panel_{month}_{year}_d.csv'\n",
    "    input_file_path_d = os.path.join(input_folder_path, input_file_name_d)\n",
    "    \n",
    "    data_e = pd.read_csv(input_file_path_e, \n",
    "                         usecols = ['rest_id', \n",
    "                                    'month', \n",
    "                                    'year', \n",
    "                                    'est_in_200m', \n",
    "                                    'est_in_400m', \n",
    "                                    'est_in_600m', \n",
    "                                    'est_in_cbg'])\n",
    "    data_d = pd.read_csv(input_file_path_d)\n",
    "    \n",
    "    # One-to-one-merge\n",
    "    data_month = pd.merge(data_e, \n",
    "                          data_d, \n",
    "                          on = ['rest_id', 'month', 'year'], \n",
    "                          how = 'outer', \n",
    "                          validate = 'one_to_one')\n",
    "    \n",
    "    # Merge with restaurant characteristics \n",
    "    data_month = pd.merge(data_month, \n",
    "                          restaurants, on = 'rest_id', \n",
    "                          how = 'outer', \n",
    "                          validate = 'one_to_one')\n",
    "    \n",
    "    # Export data, if file exists - appending to the exisiting one\n",
    "    output_file_path = os.path.join(output_folder_path, \n",
    "                                    'full_monthly_panel.csv')\n",
    "    if (os.path.exists(output_file_path)):\n",
    "        # If file exists: append to csv\n",
    "        data_month.to_csv(path_or_buf = output_file_path, \n",
    "                          na_rep = '', \n",
    "                          index = False, \n",
    "                          header = False, \n",
    "                          mode = 'a')\n",
    "        return 'appended to csv'\n",
    "    else:\n",
    "        # If not: create csv and export\n",
    "        data_month.to_csv(path_or_buf = output_file_path, \n",
    "                          na_rep = '', \n",
    "                          index = False, \n",
    "                          header = True, \n",
    "                          mode = 'w')\n",
    "        return 'created csv'\n",
    "\n",
    "################################################################################"
   ]
  },
  {
   "cell_type": "code",
   "execution_count": 6,
   "metadata": {},
   "outputs": [],
   "source": [
    "# Construct all of the data vinatages\n",
    "vintages_2017 = [('2017', '{0:0=2d}'.format(x)) for x in range(6, 13)] \n",
    "vintages_2018 = [('2018', '{0:0=2d}'.format(x)) for x in range(1, 13)] \n",
    "vintages_2019 = [('2019', '{0:0=2d}'.format(x)) for x in range(1, 8)]                                                                                                                                                                         \n",
    "vintages_all = vintages_2017 + vintages_2018 + vintages_2019"
   ]
  },
  {
   "cell_type": "code",
   "execution_count": 7,
   "metadata": {},
   "outputs": [
    {
     "name": "stdout",
     "output_type": "stream",
     "text": [
      "Working on 2017-06.\n",
      "Working on 2017-07.\n",
      "Working on 2017-08.\n",
      "Working on 2017-09.\n",
      "Working on 2017-10.\n",
      "Working on 2017-11.\n",
      "Working on 2017-12.\n",
      "Working on 2018-01.\n",
      "Working on 2018-02.\n",
      "Working on 2018-03.\n",
      "Working on 2018-04.\n",
      "Working on 2018-05.\n",
      "Working on 2018-06.\n",
      "Working on 2018-07.\n",
      "Working on 2018-08.\n",
      "Working on 2018-09.\n",
      "Working on 2018-10.\n",
      "Working on 2018-11.\n",
      "Working on 2018-12.\n",
      "Working on 2019-01.\n",
      "Working on 2019-02.\n",
      "Working on 2019-03.\n",
      "Working on 2019-04.\n",
      "Working on 2019-05.\n",
      "Working on 2019-06.\n",
      "Working on 2019-07.\n"
     ]
    }
   ],
   "source": [
    "# Export all of the data\n",
    "data_all = [one_month_full(v) for v in vintages_all]"
   ]
  },
  {
   "cell_type": "code",
   "execution_count": 8,
   "metadata": {},
   "outputs": [
    {
     "data": {
      "text/plain": [
       "['created csv',\n",
       " 'appended to csv',\n",
       " 'appended to csv',\n",
       " 'appended to csv',\n",
       " 'appended to csv',\n",
       " 'appended to csv',\n",
       " 'appended to csv',\n",
       " 'appended to csv',\n",
       " 'appended to csv',\n",
       " 'appended to csv',\n",
       " 'appended to csv',\n",
       " 'appended to csv',\n",
       " 'appended to csv',\n",
       " 'appended to csv',\n",
       " 'appended to csv',\n",
       " 'appended to csv',\n",
       " 'appended to csv',\n",
       " 'appended to csv',\n",
       " 'appended to csv',\n",
       " 'appended to csv',\n",
       " 'appended to csv',\n",
       " 'appended to csv',\n",
       " 'appended to csv',\n",
       " 'appended to csv',\n",
       " 'appended to csv',\n",
       " 'appended to csv']"
      ]
     },
     "execution_count": 8,
     "metadata": {},
     "output_type": "execute_result"
    }
   ],
   "source": [
    "# Check how the export was done\n",
    "data_all"
   ]
  },
  {
   "cell_type": "code",
   "execution_count": null,
   "metadata": {},
   "outputs": [],
   "source": []
  }
 ],
 "metadata": {
  "kernelspec": {
   "display_name": "Python 3",
   "language": "python",
   "name": "python3"
  },
  "language_info": {
   "codemirror_mode": {
    "name": "ipython",
    "version": 3
   },
   "file_extension": ".py",
   "mimetype": "text/x-python",
   "name": "python",
   "nbconvert_exporter": "python",
   "pygments_lexer": "ipython3",
   "version": "3.6.8"
  }
 },
 "nbformat": 4,
 "nbformat_minor": 2
}
